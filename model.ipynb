{
  "nbformat": 4,
  "nbformat_minor": 0,
  "metadata": {
    "colab": {
      "provenance": [],
      "collapsed_sections": [],
      "mount_file_id": "1JhgG4CsQiTjImEwcQkTkz297ME5ZgtIM",
      "authorship_tag": "ABX9TyPgPs/Beq9qzZuEqSO7nbQZ",
      "include_colab_link": true
    },
    "kernelspec": {
      "name": "python3",
      "display_name": "Python 3"
    },
    "language_info": {
      "name": "python"
    },
    "accelerator": "GPU"
  },
  "cells": [
    {
      "cell_type": "markdown",
      "metadata": {
        "id": "view-in-github",
        "colab_type": "text"
      },
      "source": [
        "<a href=\"https://colab.research.google.com/github/sevvalbicerr/GlobalAIHub--FinalProject/blob/main/model.ipynb\" target=\"_parent\"><img src=\"https://colab.research.google.com/assets/colab-badge.svg\" alt=\"Open In Colab\"/></a>"
      ]
    },
    {
      "cell_type": "code",
      "execution_count": 1,
      "metadata": {
        "id": "ds_hqEQN7cL5"
      },
      "outputs": [],
      "source": [
        "# Import Pandas and Matplotlib\n",
        "import pandas as pd\n",
        "import matplotlib.pyplot as plt\n",
        "import numpy as np\n",
        "# Import Label Encoder and train_test_split\n",
        "from sklearn.preprocessing import LabelEncoder, minmax_scale\n",
        "from sklearn.model_selection import train_test_split"
      ]
    },
    {
      "cell_type": "code",
      "source": [
        "X_train = np.load('/content/drive/MyDrive/DeepLearningBootcamp/Dataset/data/X_train.npy')\n",
        "X_test = np.load('/content/drive/MyDrive/DeepLearningBootcamp/Dataset/data/X_test.npy')\n",
        "X_val = np.load('/content/drive/MyDrive/DeepLearningBootcamp/Dataset/data/X_val.npy')\n",
        "\n",
        "y_train = np.load('/content/drive/MyDrive/DeepLearningBootcamp/Dataset/data/y_train.npy')\n",
        "y_test = np.load('/content/drive/MyDrive/DeepLearningBootcamp/Dataset/data/y_test.npy')\n",
        "y_val = np.load('/content/drive/MyDrive/DeepLearningBootcamp/Dataset/data/y_val.npy')"
      ],
      "metadata": {
        "id": "hPdiLZj57r3G"
      },
      "execution_count": 14,
      "outputs": []
    },
    {
      "cell_type": "code",
      "source": [
        "print(f\"X_train: {len(X_train)}\")\n",
        "print(f\"X_test: {len(X_test)}\")\n",
        "print(f\"X_val: {len(X_val)}\")\n",
        "\n",
        "print(f\"y_train: {len(y_train)}\")\n",
        "print(f\"y_test: {len(y_test)}\")\n",
        "print(f\"y_val: {len(y_val)}\")"
      ],
      "metadata": {
        "colab": {
          "base_uri": "https://localhost:8080/"
        },
        "id": "P3wcDrEj7_jd",
        "outputId": "9e7c00ac-5242-4965-975e-7609f7e4d67d"
      },
      "execution_count": 15,
      "outputs": [
        {
          "output_type": "stream",
          "name": "stdout",
          "text": [
            "X_train: 6985\n",
            "X_test: 873\n",
            "X_val: 874\n",
            "y_train: 6985\n",
            "y_test: 873\n",
            "y_val: 874\n"
          ]
        }
      ]
    },
    {
      "cell_type": "code",
      "source": [
        "# Import TensorFlow\n",
        "import tensorflow as tf"
      ],
      "metadata": {
        "id": "uxmlG0BiGQOn"
      },
      "execution_count": 16,
      "outputs": []
    },
    {
      "cell_type": "code",
      "source": [
        "# Create a model object\n",
        "model = tf.keras.Sequential()"
      ],
      "metadata": {
        "id": "fpVq8h2Y8Qqt"
      },
      "execution_count": 17,
      "outputs": []
    },
    {
      "cell_type": "code",
      "source": [
        "\n",
        "model.add(tf.keras.layers.Conv2D(32, kernel_size = (3, 3), strides = (1, 1),\n",
        "                                 padding = \"same\", activation = \"relu\", input_shape = X_train.shape[1:] ))\n",
        "\n",
        "model.add(tf.keras.layers.MaxPooling2D(2, 2))\n",
        "\n",
        "\n",
        "model.add(tf.keras.layers.Conv2D(64, kernel_size = (3, 3), strides = (1, 1),\n",
        "                                 padding = \"same\", activation = \"relu\"))\n",
        "\n",
        "model.add(tf.keras.layers.MaxPooling2D(2, 2))\n",
        "\n",
        "\n",
        "model.add(tf.keras.layers.Conv2D(64, kernel_size = (3, 3), strides = (1, 1),\n",
        "                                 padding = \"same\", activation = \"relu\"))\n",
        "\n",
        "model.add(tf.keras.layers.MaxPooling2D(2, 2))\n",
        "\n",
        "\n",
        "model.add(tf.keras.layers.Conv2D(128, kernel_size = (3, 3), strides = (1, 1),\n",
        "                                 padding = \"same\", activation = \"relu\"))\n",
        "\n",
        "model.add(tf.keras.layers.Flatten())\n",
        "\n",
        "model.add(tf.keras.layers.Dense(64, activation = \"relu\"))\n",
        "model.add(tf.keras.layers.Dropout(0.5))\n",
        "\n",
        "model.add(tf.keras.layers.Dense(64, activation = \"relu\"))\n",
        "model.add(tf.keras.layers.Dropout(0.5))\n",
        "model.add(tf.keras.layers.Dense(10, activation = \"softmax\"))\n",
        "model.compile(optimizer = \"adam\", loss = \"sparse_categorical_crossentropy\", metrics = [\"accuracy\"])\n"
      ],
      "metadata": {
        "id": "t28P_biNOT06"
      },
      "execution_count": 18,
      "outputs": []
    },
    {
      "cell_type": "code",
      "source": [
        "Model_Results = model.fit(X_train, y_train, batch_size = 64, epochs = 20, validation_data = (X_val,y_val))"
      ],
      "metadata": {
        "colab": {
          "base_uri": "https://localhost:8080/"
        },
        "id": "d0Q5Jb8rDrS5",
        "outputId": "f48ba47c-579b-4721-f14d-89db193ec36b"
      },
      "execution_count": 19,
      "outputs": [
        {
          "output_type": "stream",
          "name": "stdout",
          "text": [
            "Epoch 1/20\n",
            "110/110 [==============================] - 17s 40ms/step - loss: 2.6947 - accuracy: 0.1652 - val_loss: 2.1223 - val_accuracy: 0.2677\n",
            "Epoch 2/20\n",
            "110/110 [==============================] - 4s 33ms/step - loss: 2.1186 - accuracy: 0.1937 - val_loss: 1.8678 - val_accuracy: 0.3867\n",
            "Epoch 3/20\n",
            "110/110 [==============================] - 4s 34ms/step - loss: 1.9202 - accuracy: 0.2896 - val_loss: 1.5246 - val_accuracy: 0.5172\n",
            "Epoch 4/20\n",
            "110/110 [==============================] - 4s 33ms/step - loss: 1.7193 - accuracy: 0.3689 - val_loss: 1.3180 - val_accuracy: 0.5835\n",
            "Epoch 5/20\n",
            "110/110 [==============================] - 4s 33ms/step - loss: 1.5398 - accuracy: 0.4438 - val_loss: 1.1217 - val_accuracy: 0.6682\n",
            "Epoch 6/20\n",
            "110/110 [==============================] - 4s 34ms/step - loss: 1.3555 - accuracy: 0.5141 - val_loss: 0.9911 - val_accuracy: 0.7128\n",
            "Epoch 7/20\n",
            "110/110 [==============================] - 4s 33ms/step - loss: 1.2021 - accuracy: 0.5732 - val_loss: 0.8323 - val_accuracy: 0.7780\n",
            "Epoch 8/20\n",
            "110/110 [==============================] - 4s 33ms/step - loss: 1.0975 - accuracy: 0.6112 - val_loss: 0.7934 - val_accuracy: 0.7666\n",
            "Epoch 9/20\n",
            "110/110 [==============================] - 4s 33ms/step - loss: 1.0008 - accuracy: 0.6504 - val_loss: 0.7728 - val_accuracy: 0.7838\n",
            "Epoch 10/20\n",
            "110/110 [==============================] - 4s 33ms/step - loss: 0.9084 - accuracy: 0.6743 - val_loss: 0.7720 - val_accuracy: 0.7803\n",
            "Epoch 11/20\n",
            "110/110 [==============================] - 4s 33ms/step - loss: 0.8607 - accuracy: 0.6999 - val_loss: 0.6855 - val_accuracy: 0.8124\n",
            "Epoch 12/20\n",
            "110/110 [==============================] - 4s 33ms/step - loss: 0.7632 - accuracy: 0.7273 - val_loss: 0.6911 - val_accuracy: 0.8249\n",
            "Epoch 13/20\n",
            "110/110 [==============================] - 4s 33ms/step - loss: 0.7013 - accuracy: 0.7528 - val_loss: 0.6323 - val_accuracy: 0.8227\n",
            "Epoch 14/20\n",
            "110/110 [==============================] - 4s 33ms/step - loss: 0.6844 - accuracy: 0.7591 - val_loss: 0.6561 - val_accuracy: 0.8192\n",
            "Epoch 15/20\n",
            "110/110 [==============================] - 4s 33ms/step - loss: 0.6383 - accuracy: 0.7719 - val_loss: 0.6253 - val_accuracy: 0.8341\n",
            "Epoch 16/20\n",
            "110/110 [==============================] - 4s 34ms/step - loss: 0.6057 - accuracy: 0.7795 - val_loss: 0.6206 - val_accuracy: 0.8398\n",
            "Epoch 17/20\n",
            "110/110 [==============================] - 4s 34ms/step - loss: 0.6025 - accuracy: 0.7851 - val_loss: 0.6028 - val_accuracy: 0.8295\n",
            "Epoch 18/20\n",
            "110/110 [==============================] - 4s 34ms/step - loss: 0.5353 - accuracy: 0.8020 - val_loss: 0.6278 - val_accuracy: 0.8455\n",
            "Epoch 19/20\n",
            "110/110 [==============================] - 4s 34ms/step - loss: 0.5314 - accuracy: 0.8077 - val_loss: 0.8829 - val_accuracy: 0.8146\n",
            "Epoch 20/20\n",
            "110/110 [==============================] - 4s 34ms/step - loss: 0.5445 - accuracy: 0.8155 - val_loss: 0.6914 - val_accuracy: 0.8215\n"
          ]
        }
      ]
    },
    {
      "cell_type": "code",
      "source": [
        "plt.plot(Model_Results.history[\"loss\"], label = \"loss\")\n",
        "plt.plot(Model_Results.history[\"val_loss\"], label = \"val_loss\")\n",
        "\n",
        "plt.xlabel(\"Epoch\")\n",
        "plt.ylabel(\"Loss\")\n",
        "\n",
        "plt.legend()\n",
        "\n",
        "plt.show()"
      ],
      "metadata": {
        "id": "8LHR69CyD01h",
        "colab": {
          "base_uri": "https://localhost:8080/",
          "height": 279
        },
        "outputId": "fa1dde5d-6f3a-4498-9da1-610984d19141"
      },
      "execution_count": 20,
      "outputs": [
        {
          "output_type": "display_data",
          "data": {
            "text/plain": [
              "<Figure size 432x288 with 1 Axes>"
            ],
            "image/png": "[encoded data removed]"
          },
          "metadata": {
            "needs_background": "light"
          }
        }
      ]
    },
    {
      "cell_type": "code",
      "source": [
        "plt.plot(Model_Results.history[\"accuracy\"], label = \"accuracy\")\n",
        "\n",
        "plt.plot(Model_Results.history[\"val_accuracy\"], label = \"val_accuracy\")\n",
        "\n",
        "plt.xlabel(\"Epoch\")\n",
        "plt.ylabel(\"Accuracy\")\n",
        "\n",
        "plt.legend()\n",
        "\n",
        "plt.show()"
      ],
      "metadata": {
        "colab": {
          "base_uri": "https://localhost:8080/",
          "height": 279
        },
        "id": "h9Ii9GVQKSFN",
        "outputId": "b4de6c8e-9283-47ad-9e93-e1bf0125b27e"
      },
      "execution_count": 21,
      "outputs": [
        {
          "output_type": "display_data",
          "data": {
            "text/plain": [
              "<Figure size 432x288 with 1 Axes>"
            ],
            "image/png": "[encoded data removed]"
          },
          "metadata": {
            "needs_background": "light"
          }
        }
      ]
    },
    {
      "cell_type": "code",
      "source": [
        "model.evaluate(X_test, y_test)"
      ],
      "metadata": {
        "colab": {
          "base_uri": "https://localhost:8080/"
        },
        "id": "Hat_PROaKakl",
        "outputId": "4575690e-4d35-4a62-bb55-3a16bbf926bb"
      },
      "execution_count": 22,
      "outputs": [
        {
          "output_type": "stream",
          "name": "stdout",
          "text": [
            "28/28 [==============================] - 0s 8ms/step - loss: 0.6600 - accuracy: 0.8305\n"
          ]
        },
        {
          "output_type": "execute_result",
          "data": {
            "text/plain": [
              "[0.6600483655929565, 0.8304696679115295]"
            ]
          },
          "metadata": {},
          "execution_count": 22
        }
      ]
    },
    {
      "cell_type": "code",
      "source": [],
      "metadata": {
        "id": "1Yrwm1ixLpJ2"
      },
      "execution_count": null,
      "outputs": []
    }
  ]
}