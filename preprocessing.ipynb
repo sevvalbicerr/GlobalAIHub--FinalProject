{
  "nbformat": 4,
  "nbformat_minor": 0,
  "metadata": {
    "colab": {
      "provenance": [],
      "mount_file_id": "1YWvdq-WwH4FSINjbonZWz9m2pwquLlGD",
      "authorship_tag": "ABX9TyOboTqQJ0IJ/5B52mDyTBQw",
      "include_colab_link": true
    },
    "kernelspec": {
      "name": "python3",
      "display_name": "Python 3"
    },
    "language_info": {
      "name": "python"
    }
  },
  "cells": [
    {
      "cell_type": "markdown",
      "metadata": {
        "id": "view-in-github",
        "colab_type": "text"
      },
      "source": [
        "<a href=\"https://colab.research.google.com/github/sevvalbicerr/GlobalAIHub--FinalProject/blob/main/preprocessing.ipynb\" target=\"_parent\"><img src=\"https://colab.research.google.com/assets/colab-badge.svg\" alt=\"Open In Colab\"/></a>"
      ]
    },
    {
      "cell_type": "code",
      "execution_count": 15,
      "metadata": {
        "id": "eD7x1JoacnDF"
      },
      "outputs": [],
      "source": [
        "import numpy as np\n",
        "import matplotlib.pyplot as plt\n",
        "import cv2\n",
        "import os\n",
        "from sklearn.model_selection import train_test_split\n",
        "from PIL import Image\n",
        "\n"
      ]
    },
    {
      "cell_type": "code",
      "source": [
        "path=\"/content/drive/MyDrive/DeepLearningBootcamp/Dataset/Spectrograms\"\n"
      ],
      "metadata": {
        "id": "pLPgyOj8c8WJ"
      },
      "execution_count": 16,
      "outputs": []
    },
    {
      "cell_type": "code",
      "source": [
        "height_width=100\n",
        "data=[]\n",
        "def prepocessing(size):\n",
        "  for folder in os.listdir(path):\n",
        "    for img in os.listdir(f\"{path}/{folder}\"):\n",
        "      image = cv2.imread(f\"{path}/{folder}/{img}\", cv2.IMREAD_UNCHANGED)\n",
        "      gray_image_arr = cv2.cvtColor(image, cv2.COLOR_BGR2GRAY)\n",
        "      normalized_img_arr=cv2.resize(gray_image_arr,(size,size))\n",
        "      data.append([normalized_img_arr,folder])\n",
        "   "
      ],
      "metadata": {
        "id": "-6Gzu9-Ribtq"
      },
      "execution_count": 60,
      "outputs": []
    },
    {
      "cell_type": "code",
      "source": [
        "height_width=100\n",
        "prepocessing(height_width)\n",
        "print(len(data))\n"
      ],
      "metadata": {
        "id": "hVtyS97djPF9",
        "colab": {
          "base_uri": "https://localhost:8080/"
        },
        "outputId": "95bef885-e229-464c-858d-a386f594208a"
      },
      "execution_count": 61,
      "outputs": [
        {
          "output_type": "stream",
          "name": "stdout",
          "text": [
            "8732\n"
          ]
        }
      ]
    },
    {
      "cell_type": "code",
      "source": [
        "\n",
        "X = []\n",
        "y = []\n",
        "\n",
        "for features, label in data:\n",
        "    X.append(features)\n",
        "    y.append(label)"
      ],
      "metadata": {
        "id": "8bYghDsxT0qt"
      },
      "execution_count": 62,
      "outputs": []
    },
    {
      "cell_type": "code",
      "source": [
        "X = np.array(X).reshape(-1, height_width, height_width, 1)\n",
        "y = np.array(y)"
      ],
      "metadata": {
        "id": "JP9YQb6bT8ej"
      },
      "execution_count": 63,
      "outputs": []
    },
    {
      "cell_type": "code",
      "source": [
        "np.save('/content/drive/MyDrive/DeepLearningBootcamp/Dataset/data/features', X)\n",
        "np.save('/content/drive/MyDrive/DeepLearningBootcamp/Dataset/data/labels', y)"
      ],
      "metadata": {
        "id": "Lbpf23PaUB6-"
      },
      "execution_count": 64,
      "outputs": []
    },
    {
      "cell_type": "code",
      "source": [
        "X_train, X_test, y_train, y_test = train_test_split(X, y, train_size = 0.8)\n",
        "\n",
        "X_test, X_val, y_test, y_val = train_test_split(X_test, y_test, train_size = 0.5)\n"
      ],
      "metadata": {
        "id": "PTsJkeAZ3cQs"
      },
      "execution_count": 65,
      "outputs": []
    },
    {
      "cell_type": "code",
      "source": [
        "print(f\"X_train: {len(X_train)}\")\n",
        "print(f\"X_test: {len(X_test)}\")\n",
        "print(f\"X_val: {len(X_val)}\")\n",
        "\n",
        "print(f\"y_train: {len(y_train)}\")\n",
        "print(f\"y_test: {len(y_test)}\")\n",
        "print(f\"y_val: {len(y_val)}\")"
      ],
      "metadata": {
        "colab": {
          "base_uri": "https://localhost:8080/"
        },
        "id": "IdLKof9H3t_o",
        "outputId": "3dff2df2-f5dd-46c3-898c-464a65d6ccd1"
      },
      "execution_count": 66,
      "outputs": [
        {
          "output_type": "stream",
          "name": "stdout",
          "text": [
            "X_train: 6985\n",
            "X_test: 873\n",
            "X_val: 874\n",
            "y_train: 6985\n",
            "y_test: 873\n",
            "y_val: 874\n"
          ]
        }
      ]
    },
    {
      "cell_type": "code",
      "source": [
        "np.save('/content/drive/MyDrive/DeepLearningBootcamp/Dataset/data/X_train', X_train)\n",
        "np.save('/content/drive/MyDrive/DeepLearningBootcamp/Dataset/data/X_test', X_test)\n",
        "np.save('/content/drive/MyDrive/DeepLearningBootcamp/Dataset/data/X_val', X_val)\n",
        "\n",
        "np.save('/content/drive/MyDrive/DeepLearningBootcamp/Dataset/data/y_train', y_train)\n",
        "np.save('/content/drive/MyDrive/DeepLearningBootcamp/Dataset/data/y_test', y_test)\n",
        "np.save('/content/drive/MyDrive/DeepLearningBootcamp/Dataset/data/y_val', y_val)\n",
        "  \n",
        "print(\"The data has been saved.\")"
      ],
      "metadata": {
        "colab": {
          "base_uri": "https://localhost:8080/"
        },
        "id": "X2YTQBPA3xVY",
        "outputId": "39aa010c-e4a5-498d-a4c9-3ea8af324fe2"
      },
      "execution_count": 67,
      "outputs": [
        {
          "output_type": "stream",
          "name": "stdout",
          "text": [
            "The data has been saved.\n"
          ]
        }
      ]
    },
    {
      "cell_type": "code",
      "source": [],
      "metadata": {
        "id": "tdcPrQbNFE88"
      },
      "execution_count": null,
      "outputs": []
    }
  ]
}