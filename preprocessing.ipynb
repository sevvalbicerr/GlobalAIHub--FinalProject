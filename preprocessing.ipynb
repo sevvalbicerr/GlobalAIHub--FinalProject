{
  "nbformat": 4,
  "nbformat_minor": 0,
  "metadata": {
    "colab": {
      "provenance": [],
      "mount_file_id": "1YWvdq-WwH4FSINjbonZWz9m2pwquLlGD",
      "authorship_tag": "ABX9TyOzAq2f39FKjMdd/XEEYx5u",
      "include_colab_link": true
    },
    "kernelspec": {
      "name": "python3",
      "display_name": "Python 3"
    },
    "language_info": {
      "name": "python"
    }
  },
  "cells": [
    {
      "cell_type": "markdown",
      "metadata": {
        "id": "view-in-github",
        "colab_type": "text"
      },
      "source": [
        "<a href=\"https://colab.research.google.com/github/sevvalbicerr/GlobalAIHub--FinalProject/blob/main/preprocessing.ipynb\" target=\"_parent\"><img src=\"https://colab.research.google.com/assets/colab-badge.svg\" alt=\"Open In Colab\"/></a>"
      ]
    },
    {
      "cell_type": "code",
      "execution_count": 15,
      "metadata": {
        "id": "eD7x1JoacnDF"
      },
      "outputs": [],
      "source": [
        "import numpy as np\n",
        "import matplotlib.pyplot as plt\n",
        "import cv2\n",
        "import os\n",
        "from sklearn.model_selection import train_test_split\n",
        "from PIL import Image\n",
        "\n"
      ]
    },
    {
      "cell_type": "code",
      "source": [
        "path=\"/content/drive/MyDrive/DeepLearningBootcamp/Dataset/Spectrograms\"\n"
      ],
      "metadata": {
        "id": "pLPgyOj8c8WJ"
      },
      "execution_count": 16,
      "outputs": []
    },
    {
      "cell_type": "code",
      "source": [
        "height_width=100\n",
        "data=[]\n",
        "def prepocessing(size):\n",
        "  for folder in os.listdir(path):\n",
        "    print(f\"{folder}\")\n",
        "    for img in os.listdir(f\"{path}/{folder}\"):\n",
        "      #print(img)\n",
        "      image = cv2.imread(f\"{path}/{folder}/{img}\", cv2.IMREAD_UNCHANGED)\n",
        "      #img_arr=np.array(Image.open(image))\n",
        "      gray_image_arr = cv2.cvtColor(image, cv2.COLOR_BGR2GRAY)\n",
        "      normalized_img_arr=cv2.resize(gray_image_arr,(size,size))\n",
        "      data.append([normalized_img_arr,folder])\n",
        "   "
      ],
      "metadata": {
        "id": "-6Gzu9-Ribtq"
      },
      "execution_count": 33,
      "outputs": []
    },
    {
      "cell_type": "code",
      "source": [
        "height_width=100\n",
        "prepocessing(height_width)\n",
        "print(len(data))\n"
      ],
      "metadata": {
        "id": "hVtyS97djPF9",
        "colab": {
          "base_uri": "https://localhost:8080/"
        },
        "outputId": "34a2af62-9976-40f8-f2b1-68be12a037aa"
      },
      "execution_count": 34,
      "outputs": [
        {
          "output_type": "stream",
          "name": "stdout",
          "text": [
            "5\n",
            "6\n",
            "7\n",
            "8\n",
            "1\n",
            "0\n",
            "3\n",
            "2\n",
            "4\n",
            "9\n",
            "8732\n"
          ]
        }
      ]
    },
    {
      "cell_type": "code",
      "source": [
        "\n",
        "X = []\n",
        "y = []\n",
        "\n",
        "for features, label in data:\n",
        "    X.append(features)\n",
        "    y.append(label)"
      ],
      "metadata": {
        "id": "8bYghDsxT0qt"
      },
      "execution_count": 35,
      "outputs": []
    },
    {
      "cell_type": "code",
      "source": [
        "X = np.array(X).reshape(-1, height_width, height_width, 1)\n",
        "y = np.array(y)"
      ],
      "metadata": {
        "id": "JP9YQb6bT8ej"
      },
      "execution_count": 36,
      "outputs": []
    },
    {
      "cell_type": "code",
      "source": [
        "#np array save--\n",
        "np.save('/content/drive/MyDrive/DeepLearningBootcamp/Dataset/data/features', X)\n",
        "np.save('/content/drive/MyDrive/DeepLearningBootcamp/Dataset/data/labels', y)"
      ],
      "metadata": {
        "id": "Lbpf23PaUB6-"
      },
      "execution_count": 37,
      "outputs": []
    },
    {
      "cell_type": "code",
      "source": [
        "# Tüm verinin %70'i eğitim ve %30'u test kümesi için ayrılır. \n",
        "X_train, X_test, y_train, y_test = train_test_split(X, y, train_size = 0.8)\n",
        "\n",
        "# %30'u test için ayrılan veriden %50'si test ve %50'si doğrulama kümesi için ayrılır. \n",
        "X_test, X_val, y_test, y_val = train_test_split(X_test, y_test, train_size = 0.5)\n",
        "\n",
        "# Train = %70 / Test = %15 / Validation = %15"
      ],
      "metadata": {
        "id": "PTsJkeAZ3cQs"
      },
      "execution_count": 42,
      "outputs": []
    },
    {
      "cell_type": "code",
      "source": [
        "print(f\"X_train: {len(X_train)}\")\n",
        "print(f\"X_test: {len(X_test)}\")\n",
        "print(f\"X_val: {len(X_val)}\")\n",
        "\n",
        "print(f\"y_train: {len(y_train)}\")\n",
        "print(f\"y_test: {len(y_test)}\")\n",
        "print(f\"y_val: {len(y_val)}\")"
      ],
      "metadata": {
        "colab": {
          "base_uri": "https://localhost:8080/"
        },
        "id": "IdLKof9H3t_o",
        "outputId": "71fe5c8f-4729-4419-f6cb-3c088c3add9b"
      },
      "execution_count": 43,
      "outputs": [
        {
          "output_type": "stream",
          "name": "stdout",
          "text": [
            "X_train: 6985\n",
            "X_test: 873\n",
            "X_val: 874\n",
            "y_train: 6985\n",
            "y_test: 873\n",
            "y_val: 874\n"
          ]
        }
      ]
    },
    {
      "cell_type": "code",
      "source": [
        "np.save('/content/drive/MyDrive/DeepLearningBootcamp/Dataset/data/X_train', X_train)\n",
        "np.save('/content/drive/MyDrive/DeepLearningBootcamp/Dataset/data/X_test', X_test)\n",
        "np.save('/content/drive/MyDrive/DeepLearningBootcamp/Dataset/data/X_val', X_val)\n",
        "\n",
        "np.save('/content/drive/MyDrive/DeepLearningBootcamp/Dataset/data/y_train', y_train)\n",
        "np.save('/content/drive/MyDrive/DeepLearningBootcamp/Dataset/data/y_test', y_test)\n",
        "np.save('/content/drive/MyDrive/DeepLearningBootcamp/Dataset/data/y_val', y_val)\n",
        "  \n",
        "print(\"The data has been saved.\")"
      ],
      "metadata": {
        "colab": {
          "base_uri": "https://localhost:8080/"
        },
        "id": "X2YTQBPA3xVY",
        "outputId": "6a89cdf2-0cd8-4963-f0cb-0aaf5ef0c0c7"
      },
      "execution_count": 44,
      "outputs": [
        {
          "output_type": "stream",
          "name": "stdout",
          "text": [
            "The data has been saved.\n"
          ]
        }
      ]
    }
  ]
}